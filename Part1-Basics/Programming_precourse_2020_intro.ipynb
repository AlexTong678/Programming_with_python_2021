{
  "nbformat": 4,
  "nbformat_minor": 0,
  "metadata": {
    "colab": {
      "name": "Programming_precourse_2020_intro.ipynb",
      "provenance": [],
      "authorship_tag": "ABX9TyNt9LleCA98GDJ5FsmFBI16",
      "include_colab_link": true
    },
    "kernelspec": {
      "name": "python3",
      "display_name": "Python 3"
    }
  },
  "cells": [
    {
      "cell_type": "markdown",
      "metadata": {
        "id": "view-in-github",
        "colab_type": "text"
      },
      "source": [
        "<a href=\"https://colab.research.google.com/github/diegopajarito/Programming_with_python_2021/blob/master/Part1-Basics/Programming_precourse_2020_intro.ipynb\" target=\"_parent\"><img src=\"https://colab.research.google.com/assets/colab-badge.svg\" alt=\"Open In Colab\"/></a>"
      ]
    },
    {
      "cell_type": "markdown",
      "metadata": {
        "id": "NOui7G8gglJS",
        "colab_type": "text"
      },
      "source": [
        "# Executing python code using notebooks\n",
        "\n",
        "*This is the simplest option to star coding with python (and other languages).*\n",
        "\n",
        "A notebook is an arrangement of thext blocks labeled to represent either text notes (like this one) or code snipets. These code snipets can also be executed in a remote interpreter (in the case of [google colab](https://colab.research.google.com/), using google's infrastructure)"
      ]
    },
    {
      "cell_type": "markdown",
      "metadata": {
        "id": "JtoxFzXYgsNn",
        "colab_type": "text"
      },
      "source": [
        "# Python libraries\n",
        "\n",
        "To import a library into a python script we use the \"import\" command.\n",
        "\n",
        "Depending on the complexity of your script you will have a longer list of libraries.\n",
        "\n",
        "Hit the play button on the left side of the following block to execute: "
      ]
    },
    {
      "cell_type": "code",
      "metadata": {
        "id": "GJdwaZOmf0gv",
        "colab_type": "code",
        "colab": {}
      },
      "source": [
        "import sys"
      ],
      "execution_count": null,
      "outputs": []
    },
    {
      "cell_type": "markdown",
      "metadata": {
        "id": "vdooW1hzg4-g",
        "colab_type": "text"
      },
      "source": [
        "Let's use this library. We call the library and its methods by linking them using dot '.' characters.\n",
        "\n",
        "Hit the play butom on the left side for each of the following blocks to execute:"
      ]
    },
    {
      "cell_type": "code",
      "metadata": {
        "id": "xQTC1pzsgrmF",
        "colab_type": "code",
        "colab": {
          "base_uri": "https://localhost:8080/",
          "height": 51
        },
        "outputId": "34fa8127-ecd8-4a30-bc24-a8795cfbe423"
      },
      "source": [
        "sys.stdout.write(\"This is an script with three sections \\n\\n\")"
      ],
      "execution_count": null,
      "outputs": [
        {
          "output_type": "stream",
          "text": [
            "This is an script with three sections \n",
            "\n"
          ],
          "name": "stdout"
        }
      ]
    },
    {
      "cell_type": "code",
      "metadata": {
        "id": "WmXr00SYgoX4",
        "colab_type": "code",
        "colab": {}
      },
      "source": [
        "sys.stdout.write(\"Header section using '#' characters\\n\")"
      ],
      "execution_count": null,
      "outputs": []
    },
    {
      "cell_type": "code",
      "metadata": {
        "id": "OoGJ_o0KgyPO",
        "colab_type": "code",
        "colab": {}
      },
      "source": [
        "sys.stdout.write(\"library section using import/from ... import commands\\n\")"
      ],
      "execution_count": null,
      "outputs": []
    },
    {
      "cell_type": "code",
      "metadata": {
        "id": "V9fKI8sXg2LG",
        "colab_type": "code",
        "colab": {}
      },
      "source": [
        "sys.stdout.write(\"Code section calling the 'sys' library to show you this text\\n\")"
      ],
      "execution_count": null,
      "outputs": []
    },
    {
      "cell_type": "markdown",
      "metadata": {
        "id": "ZocbaCJYgm3d",
        "colab_type": "text"
      },
      "source": [
        "# Python Variables\n"
      ]
    }
  ]
}